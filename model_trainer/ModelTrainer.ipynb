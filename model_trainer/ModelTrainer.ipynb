{
 "cells": [
  {
   "cell_type": "markdown",
   "metadata": {},
   "source": [
    "## Import EDA libraries\n",
    "## Import data from GCS"
   ]
  },
  {
   "cell_type": "code",
   "execution_count": 5,
   "metadata": {},
   "outputs": [],
   "source": [
    "import pandas as pd\n",
    "import numpy as np\n",
    "# from google.cloud import storage"
   ]
  },
  {
   "cell_type": "code",
   "execution_count": null,
   "metadata": {},
   "outputs": [],
   "source": [
    "storage_client = storage.Client()\n",
    "data_bucket = storage_client.get_bucket('fantasy_football_data')"
   ]
  },
  {
   "cell_type": "code",
   "execution_count": 6,
   "metadata": {},
   "outputs": [],
   "source": [
    "# stats1995 = pd.read_json(data_bucket.get_blob('fantasyStats1995.json').download_as_string())\n",
    "# stats1996 = pd.read_json(data_bucket.get_blob('fantasyStats1996.json').download_as_string())\n",
    "# stats1997 = pd.read_json(data_bucket.get_blob('fantasyStats1998.json').download_as_string())\n",
    "# stats1998 = pd.read_json(data_bucket.get_blob('fantasyStats1999.json').download_as_string())\n",
    "# stats1999 = pd.read_json(data_bucket.get_blob('fantasyStats2000.json').download_as_string())\n",
    "# stats2000 = pd.read_json(data_bucket.get_blob('fantasyStats2000.json').download_as_string())\n",
    "# stats2001 = pd.read_json(data_bucket.get_blob('fantasyStats2000.json').download_as_string())\n",
    "# stats2002 = pd.read_json(data_bucket.get_blob('fantasyStats2000.json').download_as_string())\n",
    "# stats2003 = pd.read_json(data_bucket.get_blob('fantasyStats2000.json').download_as_string())\n",
    "# stats2004 = pd.read_json(data_bucket.get_blob('fantasyStats2000.json').download_as_string())\n",
    "# stats2005 = pd.read_json(data_bucket.get_blob('fantasyStats2000.json').download_as_string())\n",
    "# stats2006 = pd.read_json(data_bucket.get_blob('fantasyStats2020.json').download_as_string())\n",
    "# stats2007 = pd.read_json(data_bucket.get_blob('fantasyStats2020.json').download_as_string())\n",
    "# stats2008 = pd.read_json(data_bucket.get_blob('fantasyStats2020.json').download_as_string())\n",
    "# stats2009 = pd.read_json(data_bucket.get_blob('fantasyStats2020.json').download_as_string())\n",
    "# stats2010 = pd.read_json(data_bucket.get_blob('fantasyStats2020.json').download_as_string())\n",
    "# stats2011 = pd.read_json(data_bucket.get_blob('fantasyStats2020.json').download_as_string())\n",
    "# stats2012 = pd.read_json(data_bucket.get_blob('fantasyStats2020.json').download_as_string())\n",
    "# stats2013 = pd.read_json(data_bucket.get_blob('fantasyStats2020.json').download_as_string())\n",
    "# stats2014 = pd.read_json(data_bucket.get_blob('fantasyStats2020.json').download_as_string())\n",
    "# stats2015 = pd.read_json(data_bucket.get_blob('fantasyStats2020.json').download_as_string())\n",
    "# stats2016 = pd.read_json(data_bucket.get_blob('fantasyStats2020.json').download_as_string())\n",
    "# stats2017 = pd.read_json(data_bucket.get_blob('fantasyStats2020.json').download_as_string())\n",
    "# stats2018 = pd.read_json(data_bucket.get_blob('fantasyStats2020.json').download_as_string())\n",
    "# stats2019 = pd.read_json(data_bucket.get_blob('fantasyStats2020.json').download_as_string())\n",
    "# stats2020 = pd.read_json(data_bucket.get_blob('fantasyStats2020.json').download_as_string())\n",
    "stats1995 = pd.read_json('../webscraper/fantasyStats1995.json')\n",
    "stats1996 = pd.read_json('../webscraper/fantasyStats1996.json')\n",
    "stats1997 = pd.read_json('../webscraper/fantasyStats1997.json')\n",
    "stats1998 = pd.read_json('../webscraper/fantasyStats1998.json')\n",
    "stats1999 = pd.read_json('../webscraper/fantasyStats1999.json')\n",
    "stats2000 = pd.read_json('../webscraper/fantasyStats2000.json')\n",
    "stats2001 = pd.read_json('../webscraper/fantasyStats2001.json')\n",
    "stats2002 = pd.read_json('../webscraper/fantasyStats2002.json')\n",
    "stats2003 = pd.read_json('../webscraper/fantasyStats2003.json')\n",
    "stats2004 = pd.read_json('../webscraper/fantasyStats2004.json')\n",
    "stats2005 = pd.read_json('../webscraper/fantasyStats2005.json')\n",
    "stats2006 = pd.read_json('../webscraper/fantasyStats2006.json')\n",
    "stats2007 = pd.read_json('../webscraper/fantasyStats2007.json')\n",
    "stats2008 = pd.read_json('../webscraper/fantasyStats2008.json')\n",
    "stats2009 = pd.read_json('../webscraper/fantasyStats2009.json')\n",
    "stats2010 = pd.read_json('../webscraper/fantasyStats2010.json')\n",
    "stats2011 = pd.read_json('../webscraper/fantasyStats2011.json')\n",
    "stats2012 = pd.read_json('../webscraper/fantasyStats2012.json')\n",
    "stats2013 = pd.read_json('../webscraper/fantasyStats2013.json')\n",
    "stats2014 = pd.read_json('../webscraper/fantasyStats2014.json')\n",
    "stats2015 = pd.read_json('../webscraper/fantasyStats2015.json')\n",
    "stats2016 = pd.read_json('../webscraper/fantasyStats2016.json')\n",
    "stats2017 = pd.read_json('../webscraper/fantasyStats2017.json')\n",
    "stats2018 = pd.read_json('../webscraper/fantasyStats2018.json')\n",
    "stats2019 = pd.read_json('../webscraper/fantasyStats2019.json')\n",
    "stats2020 = pd.read_json('../webscraper/fantasyStats2020.json')"
   ]
  },
  {
   "cell_type": "markdown",
   "metadata": {},
   "source": [
    "## Create Results Datasets"
   ]
  },
  {
   "cell_type": "code",
   "execution_count": 7,
   "metadata": {},
   "outputs": [],
   "source": [
    "info1996 = pd.DataFrame([stats1996['name'],stats1996['fantasyPoints'],stats1996['pprPoints'],stats1996['draftKingPoints'],stats1996['fanDuelPoints']])\n",
    "info1997 = pd.DataFrame([stats1997['name'],stats1997['fantasyPoints'],stats1997['pprPoints'],stats1997['draftKingPoints'],stats1997['fanDuelPoints']])\n",
    "info1998 = pd.DataFrame([stats1998['name'],stats1998['fantasyPoints'],stats1998['pprPoints'],stats1998['draftKingPoints'],stats1998['fanDuelPoints']])\n",
    "info1999 = pd.DataFrame([stats1999['name'],stats1999['fantasyPoints'],stats1999['pprPoints'],stats1999['draftKingPoints'],stats1999['fanDuelPoints']])\n",
    "info2000 = pd.DataFrame([stats2000['name'],stats2000['fantasyPoints'],stats2000['pprPoints'],stats2000['draftKingPoints'],stats2000['fanDuelPoints']])\n",
    "info2001 = pd.DataFrame([stats2001['name'],stats2001['fantasyPoints'],stats2001['pprPoints'],stats2001['draftKingPoints'],stats2001['fanDuelPoints']])\n",
    "info2002 = pd.DataFrame([stats2002['name'],stats2002['fantasyPoints'],stats2002['pprPoints'],stats2002['draftKingPoints'],stats2002['fanDuelPoints']])\n",
    "info2003 = pd.DataFrame([stats2003['name'],stats2003['fantasyPoints'],stats2003['pprPoints'],stats2003['draftKingPoints'],stats2003['fanDuelPoints']])\n",
    "info2004 = pd.DataFrame([stats2004['name'],stats2004['fantasyPoints'],stats2004['pprPoints'],stats2004['draftKingPoints'],stats2004['fanDuelPoints']])\n",
    "info2005 = pd.DataFrame([stats2005['name'],stats2005['fantasyPoints'],stats2005['pprPoints'],stats2005['draftKingPoints'],stats2005['fanDuelPoints']])\n",
    "info2006 = pd.DataFrame([stats2006['name'],stats2006['fantasyPoints'],stats2006['pprPoints'],stats2006['draftKingPoints'],stats2006['fanDuelPoints']])\n",
    "info2007 = pd.DataFrame([stats2007['name'],stats2007['fantasyPoints'],stats2007['pprPoints'],stats2007['draftKingPoints'],stats2007['fanDuelPoints']])\n",
    "info2008 = pd.DataFrame([stats2008['name'],stats2008['fantasyPoints'],stats2008['pprPoints'],stats2008['draftKingPoints'],stats2008['fanDuelPoints']])\n",
    "info2009 = pd.DataFrame([stats2009['name'],stats2009['fantasyPoints'],stats2009['pprPoints'],stats2009['draftKingPoints'],stats2009['fanDuelPoints']])\n",
    "info2010 = pd.DataFrame([stats2010['name'],stats2010['fantasyPoints'],stats2010['pprPoints'],stats2010['draftKingPoints'],stats2010['fanDuelPoints']])\n",
    "info2011 = pd.DataFrame([stats2011['name'],stats2011['fantasyPoints'],stats2011['pprPoints'],stats2011['draftKingPoints'],stats2011['fanDuelPoints']])\n",
    "info2012 = pd.DataFrame([stats2012['name'],stats2012['fantasyPoints'],stats2012['pprPoints'],stats2012['draftKingPoints'],stats2012['fanDuelPoints']])\n",
    "info2013 = pd.DataFrame([stats2013['name'],stats2013['fantasyPoints'],stats2013['pprPoints'],stats2013['draftKingPoints'],stats2013['fanDuelPoints']])\n",
    "info2014 = pd.DataFrame([stats2014['name'],stats2014['fantasyPoints'],stats2014['pprPoints'],stats2014['draftKingPoints'],stats2014['fanDuelPoints']])\n",
    "info2015 = pd.DataFrame([stats2015['name'],stats2015['fantasyPoints'],stats2015['pprPoints'],stats2015['draftKingPoints'],stats2015['fanDuelPoints']])\n",
    "info2016 = pd.DataFrame([stats2016['name'],stats2016['fantasyPoints'],stats2016['pprPoints'],stats2016['draftKingPoints'],stats2016['fanDuelPoints']])\n",
    "info2017 = pd.DataFrame([stats2017['name'],stats2017['fantasyPoints'],stats2017['pprPoints'],stats2017['draftKingPoints'],stats2017['fanDuelPoints']])\n",
    "info2018 = pd.DataFrame([stats2018['name'],stats2018['fantasyPoints'],stats2018['pprPoints'],stats2018['draftKingPoints'],stats2018['fanDuelPoints']])\n",
    "info2019 = pd.DataFrame([stats2019['name'],stats2019['fantasyPoints'],stats2019['pprPoints'],stats2019['draftKingPoints'],stats2019['fanDuelPoints']])\n",
    "info2020 = pd.DataFrame([stats2020['name'],stats2020['fantasyPoints'],stats2020['pprPoints'],stats2020['draftKingPoints'],stats2020['fanDuelPoints']])"
   ]
  },
  {
   "cell_type": "markdown",
   "metadata": {},
   "source": [
    "## Combine training datasets and result datasets"
   ]
  },
  {
   "cell_type": "code",
   "execution_count": 8,
   "metadata": {},
   "outputs": [],
   "source": [
    "model1995 = pd.merge(stats1995,info1996.transpose(),on='name',how='outer')\n",
    "model1996 = pd.merge(stats1996,info1997.transpose(),on='name',how='outer')\n",
    "model1997 = pd.merge(stats1997,info1998.transpose(),on='name',how='outer')\n",
    "model1998 = pd.merge(stats1998,info1999.transpose(),on='name',how='outer')\n",
    "model1999 = pd.merge(stats1999,info2000.transpose(),on='name',how='outer')\n",
    "model2000 = pd.merge(stats2000,info2001.transpose(),on='name',how='outer')\n",
    "model2001 = pd.merge(stats2001,info2002.transpose(),on='name',how='outer')\n",
    "model2002 = pd.merge(stats2002,info2003.transpose(),on='name',how='outer')\n",
    "model2003 = pd.merge(stats2003,info2004.transpose(),on='name',how='outer')\n",
    "model2004 = pd.merge(stats2004,info2005.transpose(),on='name',how='outer')\n",
    "model2005 = pd.merge(stats2005,info2006.transpose(),on='name',how='outer')\n",
    "model2005 = pd.merge(stats2005,info2006.transpose(),on='name',how='outer')\n",
    "model2006 = pd.merge(stats2006,info2007.transpose(),on='name',how='outer')\n",
    "model2007 = pd.merge(stats2007,info2008.transpose(),on='name',how='outer')\n",
    "model2008 = pd.merge(stats2008,info2009.transpose(),on='name',how='outer')\n",
    "model2009 = pd.merge(stats2009,info2010.transpose(),on='name',how='outer')\n",
    "model2010 = pd.merge(stats2010,info2011.transpose(),on='name',how='outer')\n",
    "model2011 = pd.merge(stats2011,info2012.transpose(),on='name',how='outer')\n",
    "model2012 = pd.merge(stats2012,info2013.transpose(),on='name',how='outer')\n",
    "model2013 = pd.merge(stats2013,info2014.transpose(),on='name',how='outer')\n",
    "model2014 = pd.merge(stats2014,info2015.transpose(),on='name',how='outer')\n",
    "model2015 = pd.merge(stats2015,info2016.transpose(),on='name',how='outer')\n",
    "model2016 = pd.merge(stats2016,info2017.transpose(),on='name',how='outer')\n",
    "model2017 = pd.merge(stats2017,info2018.transpose(),on='name',how='outer')\n",
    "model2018 = pd.merge(stats2018,info2019.transpose(),on='name',how='outer')\n",
    "model2019 = pd.merge(stats2019,info2020.transpose(),on='name',how='outer')"
   ]
  },
  {
   "cell_type": "markdown",
   "metadata": {},
   "source": [
    "## Drop null rows as result of the merge"
   ]
  },
  {
   "cell_type": "code",
   "execution_count": 9,
   "metadata": {},
   "outputs": [],
   "source": [
    "model1995 = model1995.dropna()\n",
    "model1996 = model1996.dropna()\n",
    "model1997 = model1997.dropna()\n",
    "model1998 = model1998.dropna()\n",
    "model1999 = model1999.dropna()\n",
    "model2000 = model2000.dropna()\n",
    "model2001 = model2001.dropna()\n",
    "model2002 = model2002.dropna()\n",
    "model2003 = model2003.dropna()\n",
    "model2004 = model2004.dropna()\n",
    "model2005 = model2005.dropna()\n",
    "model2006 = model2006.dropna()\n",
    "model2007 = model2007.dropna()\n",
    "model2008 = model2008.dropna()\n",
    "model2009 = model2009.dropna()\n",
    "model2010 = model2010.dropna()\n",
    "model2011 = model2011.dropna()\n",
    "model2012 = model2012.dropna()\n",
    "model2013 = model2013.dropna()\n",
    "model2014 = model2014.dropna()\n",
    "model2015 = model2015.dropna()\n",
    "model2016 = model2016.dropna()\n",
    "model2017 = model2017.dropna()\n",
    "model2018 = model2018.dropna()\n",
    "model2019 = model2019.dropna()"
   ]
  },
  {
   "cell_type": "markdown",
   "metadata": {},
   "source": [
    "## Concatenate the datasets"
   ]
  },
  {
   "cell_type": "code",
   "execution_count": 10,
   "metadata": {},
   "outputs": [
    {
     "data": {
      "text/html": [
       "<div>\n",
       "<style scoped>\n",
       "    .dataframe tbody tr th:only-of-type {\n",
       "        vertical-align: middle;\n",
       "    }\n",
       "\n",
       "    .dataframe tbody tr th {\n",
       "        vertical-align: top;\n",
       "    }\n",
       "\n",
       "    .dataframe thead th {\n",
       "        text-align: right;\n",
       "    }\n",
       "</style>\n",
       "<table border=\"1\" class=\"dataframe\">\n",
       "  <thead>\n",
       "    <tr style=\"text-align: right;\">\n",
       "      <th></th>\n",
       "      <th>name</th>\n",
       "      <th>teamName</th>\n",
       "      <th>position</th>\n",
       "      <th>age</th>\n",
       "      <th>gamesPlayed</th>\n",
       "      <th>gamesStarted</th>\n",
       "      <th>passComp</th>\n",
       "      <th>passAtt</th>\n",
       "      <th>passYrds</th>\n",
       "      <th>passTds</th>\n",
       "      <th>...</th>\n",
       "      <th>pprPoints_x</th>\n",
       "      <th>draftKingPoints_x</th>\n",
       "      <th>fanDuelPoints_x</th>\n",
       "      <th>vbd</th>\n",
       "      <th>positionRank</th>\n",
       "      <th>overallRank</th>\n",
       "      <th>fantasyPoints_y</th>\n",
       "      <th>pprPoints_y</th>\n",
       "      <th>draftKingPoints_y</th>\n",
       "      <th>fanDuelPoints_y</th>\n",
       "    </tr>\n",
       "  </thead>\n",
       "  <tbody>\n",
       "    <tr>\n",
       "      <th>0</th>\n",
       "      <td>Emmitt Smith</td>\n",
       "      <td>DAL</td>\n",
       "      <td>RB</td>\n",
       "      <td>26.0</td>\n",
       "      <td>16.0</td>\n",
       "      <td>16.0</td>\n",
       "      <td>0.0</td>\n",
       "      <td>0.0</td>\n",
       "      <td>0.0</td>\n",
       "      <td>0.0</td>\n",
       "      <td>...</td>\n",
       "      <td>414.8</td>\n",
       "      <td>426.8</td>\n",
       "      <td>383.8</td>\n",
       "      <td>221.0</td>\n",
       "      <td>1.0</td>\n",
       "      <td>1.0</td>\n",
       "      <td>231</td>\n",
       "      <td>278.3</td>\n",
       "      <td>286.3</td>\n",
       "      <td>254.8</td>\n",
       "    </tr>\n",
       "    <tr>\n",
       "      <th>1</th>\n",
       "      <td>Jerry Rice</td>\n",
       "      <td>SFO</td>\n",
       "      <td>WR</td>\n",
       "      <td>33.0</td>\n",
       "      <td>16.0</td>\n",
       "      <td>16.0</td>\n",
       "      <td>1.0</td>\n",
       "      <td>1.0</td>\n",
       "      <td>41.0</td>\n",
       "      <td>1.0</td>\n",
       "      <td>...</td>\n",
       "      <td>414.0</td>\n",
       "      <td>420.0</td>\n",
       "      <td>353.0</td>\n",
       "      <td>174.0</td>\n",
       "      <td>1.0</td>\n",
       "      <td>2.0</td>\n",
       "      <td>187</td>\n",
       "      <td>295.1</td>\n",
       "      <td>298.1</td>\n",
       "      <td>241.1</td>\n",
       "    </tr>\n",
       "    <tr>\n",
       "      <th>2</th>\n",
       "      <td>Isaac Bruce</td>\n",
       "      <td>STL</td>\n",
       "      <td>WR</td>\n",
       "      <td>23.0</td>\n",
       "      <td>16.0</td>\n",
       "      <td>16.0</td>\n",
       "      <td>0.0</td>\n",
       "      <td>0.0</td>\n",
       "      <td>0.0</td>\n",
       "      <td>0.0</td>\n",
       "      <td>...</td>\n",
       "      <td>376.8</td>\n",
       "      <td>380.8</td>\n",
       "      <td>317.3</td>\n",
       "      <td>140.0</td>\n",
       "      <td>2.0</td>\n",
       "      <td>3.0</td>\n",
       "      <td>173</td>\n",
       "      <td>256.8</td>\n",
       "      <td>261.8</td>\n",
       "      <td>215.8</td>\n",
       "    </tr>\n",
       "    <tr>\n",
       "      <th>3</th>\n",
       "      <td>Herman Moore</td>\n",
       "      <td>DET</td>\n",
       "      <td>WR</td>\n",
       "      <td>26.0</td>\n",
       "      <td>16.0</td>\n",
       "      <td>16.0</td>\n",
       "      <td>0.0</td>\n",
       "      <td>0.0</td>\n",
       "      <td>0.0</td>\n",
       "      <td>0.0</td>\n",
       "      <td>...</td>\n",
       "      <td>371.6</td>\n",
       "      <td>376.6</td>\n",
       "      <td>310.1</td>\n",
       "      <td>131.0</td>\n",
       "      <td>3.0</td>\n",
       "      <td>4.0</td>\n",
       "      <td>186</td>\n",
       "      <td>291.6</td>\n",
       "      <td>294.6</td>\n",
       "      <td>238.6</td>\n",
       "    </tr>\n",
       "    <tr>\n",
       "      <th>4</th>\n",
       "      <td>Curtis Martin</td>\n",
       "      <td>NWE</td>\n",
       "      <td>RB</td>\n",
       "      <td>22.0</td>\n",
       "      <td>16.0</td>\n",
       "      <td>15.0</td>\n",
       "      <td>0.0</td>\n",
       "      <td>0.0</td>\n",
       "      <td>0.0</td>\n",
       "      <td>0.0</td>\n",
       "      <td>...</td>\n",
       "      <td>290.8</td>\n",
       "      <td>299.8</td>\n",
       "      <td>275.8</td>\n",
       "      <td>129.0</td>\n",
       "      <td>2.0</td>\n",
       "      <td>5.0</td>\n",
       "      <td>247</td>\n",
       "      <td>292.5</td>\n",
       "      <td>301.5</td>\n",
       "      <td>269.5</td>\n",
       "    </tr>\n",
       "  </tbody>\n",
       "</table>\n",
       "<p>5 rows × 36 columns</p>\n",
       "</div>"
      ],
      "text/plain": [
       "             name teamName position   age  gamesPlayed  gamesStarted  \\\n",
       "0   Emmitt Smith       DAL       RB  26.0         16.0          16.0   \n",
       "1     Jerry Rice       SFO       WR  33.0         16.0          16.0   \n",
       "2     Isaac Bruce      STL       WR  23.0         16.0          16.0   \n",
       "3    Herman Moore      DET       WR  26.0         16.0          16.0   \n",
       "4  Curtis Martin       NWE       RB  22.0         16.0          15.0   \n",
       "\n",
       "   passComp  passAtt  passYrds  passTds  ...  pprPoints_x  draftKingPoints_x  \\\n",
       "0       0.0      0.0       0.0      0.0  ...        414.8              426.8   \n",
       "1       1.0      1.0      41.0      1.0  ...        414.0              420.0   \n",
       "2       0.0      0.0       0.0      0.0  ...        376.8              380.8   \n",
       "3       0.0      0.0       0.0      0.0  ...        371.6              376.6   \n",
       "4       0.0      0.0       0.0      0.0  ...        290.8              299.8   \n",
       "\n",
       "   fanDuelPoints_x    vbd  positionRank  overallRank  fantasyPoints_y  \\\n",
       "0            383.8  221.0           1.0          1.0              231   \n",
       "1            353.0  174.0           1.0          2.0              187   \n",
       "2            317.3  140.0           2.0          3.0              173   \n",
       "3            310.1  131.0           3.0          4.0              186   \n",
       "4            275.8  129.0           2.0          5.0              247   \n",
       "\n",
       "   pprPoints_y  draftKingPoints_y  fanDuelPoints_y  \n",
       "0        278.3              286.3            254.8  \n",
       "1        295.1              298.1            241.1  \n",
       "2        256.8              261.8            215.8  \n",
       "3        291.6              294.6            238.6  \n",
       "4        292.5              301.5            269.5  \n",
       "\n",
       "[5 rows x 36 columns]"
      ]
     },
     "execution_count": 10,
     "metadata": {},
     "output_type": "execute_result"
    }
   ],
   "source": [
    "model = pd.concat([model1995,model1996,\n",
    "                        model1997,model1998,\n",
    "                        model1999,\n",
    "                        model2000,model2001,model2002,\n",
    "                        model2003, model2004,\n",
    "                        model2005,model2006,model2007,model2008\n",
    "                       ,model2009,model2010,model2011,model2012,\n",
    "                       model2013,model2014,model2015,model2016,\n",
    "                       model2017,model2018,model2019])\n",
    "model.head()"
   ]
  },
  {
   "cell_type": "markdown",
   "metadata": {},
   "source": [
    "## See how our dataset looks from a high level"
   ]
  },
  {
   "cell_type": "code",
   "execution_count": 11,
   "metadata": {},
   "outputs": [
    {
     "name": "stdout",
     "output_type": "stream",
     "text": [
      "<class 'pandas.core.frame.DataFrame'>\n",
      "Int64Index: 5458 entries, 0 to 312\n",
      "Data columns (total 36 columns):\n",
      " #   Column                       Non-Null Count  Dtype  \n",
      "---  ------                       --------------  -----  \n",
      " 0   name                         5458 non-null   object \n",
      " 1   teamName                     5458 non-null   object \n",
      " 2   position                     5458 non-null   object \n",
      " 3   age                          5458 non-null   float64\n",
      " 4   gamesPlayed                  5458 non-null   float64\n",
      " 5   gamesStarted                 5458 non-null   float64\n",
      " 6   passComp                     5458 non-null   float64\n",
      " 7   passAtt                      5458 non-null   float64\n",
      " 8   passYrds                     5458 non-null   float64\n",
      " 9   passTds                      5458 non-null   float64\n",
      " 10  passInts                     5458 non-null   float64\n",
      " 11  rushAtt                      5458 non-null   float64\n",
      " 12  rushYds                      5458 non-null   float64\n",
      " 13  rushYdsPerAtt                5458 non-null   float64\n",
      " 14  rushTds                      5458 non-null   float64\n",
      " 15  recTgt                       5458 non-null   float64\n",
      " 16  recReceptions                5458 non-null   float64\n",
      " 17  recYards                     5458 non-null   float64\n",
      " 18  recYdsPerAtt                 5458 non-null   float64\n",
      " 19  recTds                       5458 non-null   float64\n",
      " 20  fumbles                      5458 non-null   float64\n",
      " 21  fumblesLost                  5458 non-null   float64\n",
      " 22  scoringTds                   5458 non-null   float64\n",
      " 23  scoringTwoPointConversation  5458 non-null   float64\n",
      " 24  scoringTwoPointPass          5458 non-null   float64\n",
      " 25  fantasyPoints_x              5458 non-null   float64\n",
      " 26  pprPoints_x                  5458 non-null   float64\n",
      " 27  draftKingPoints_x            5458 non-null   float64\n",
      " 28  fanDuelPoints_x              5458 non-null   float64\n",
      " 29  vbd                          5458 non-null   float64\n",
      " 30  positionRank                 5458 non-null   float64\n",
      " 31  overallRank                  5458 non-null   float64\n",
      " 32  fantasyPoints_y              5458 non-null   object \n",
      " 33  pprPoints_y                  5458 non-null   object \n",
      " 34  draftKingPoints_y            5458 non-null   object \n",
      " 35  fanDuelPoints_y              5458 non-null   object \n",
      "dtypes: float64(29), object(7)\n",
      "memory usage: 1.5+ MB\n"
     ]
    }
   ],
   "source": [
    "model.info()"
   ]
  },
  {
   "cell_type": "markdown",
   "metadata": {},
   "source": [
    "## Find and drop any player without a position (probably defensive players getting into the mix)"
   ]
  },
  {
   "cell_type": "code",
   "execution_count": 12,
   "metadata": {},
   "outputs": [
    {
     "data": {
      "text/plain": [
       "WR    2140\n",
       "RB    1626\n",
       "QB     885\n",
       "TE     803\n",
       "Name: position, dtype: int64"
      ]
     },
     "execution_count": 12,
     "metadata": {},
     "output_type": "execute_result"
    }
   ],
   "source": [
    "model = model[model['position'] != 'N/A']\n",
    "model['position'].value_counts()"
   ]
  },
  {
   "cell_type": "markdown",
   "metadata": {},
   "source": [
    "## Convert object types to floats"
   ]
  },
  {
   "cell_type": "code",
   "execution_count": 13,
   "metadata": {},
   "outputs": [
    {
     "name": "stdout",
     "output_type": "stream",
     "text": [
      "<class 'pandas.core.frame.DataFrame'>\n",
      "Int64Index: 5454 entries, 0 to 312\n",
      "Data columns (total 36 columns):\n",
      " #   Column                       Non-Null Count  Dtype  \n",
      "---  ------                       --------------  -----  \n",
      " 0   name                         5454 non-null   object \n",
      " 1   teamName                     5454 non-null   object \n",
      " 2   position                     5454 non-null   object \n",
      " 3   age                          5454 non-null   float64\n",
      " 4   gamesPlayed                  5454 non-null   float64\n",
      " 5   gamesStarted                 5454 non-null   float64\n",
      " 6   passComp                     5454 non-null   float64\n",
      " 7   passAtt                      5454 non-null   float64\n",
      " 8   passYrds                     5454 non-null   float64\n",
      " 9   passTds                      5454 non-null   float64\n",
      " 10  passInts                     5454 non-null   float64\n",
      " 11  rushAtt                      5454 non-null   float64\n",
      " 12  rushYds                      5454 non-null   float64\n",
      " 13  rushYdsPerAtt                5454 non-null   float64\n",
      " 14  rushTds                      5454 non-null   float64\n",
      " 15  recTgt                       5454 non-null   float64\n",
      " 16  recReceptions                5454 non-null   float64\n",
      " 17  recYards                     5454 non-null   float64\n",
      " 18  recYdsPerAtt                 5454 non-null   float64\n",
      " 19  recTds                       5454 non-null   float64\n",
      " 20  fumbles                      5454 non-null   float64\n",
      " 21  fumblesLost                  5454 non-null   float64\n",
      " 22  scoringTds                   5454 non-null   float64\n",
      " 23  scoringTwoPointConversation  5454 non-null   float64\n",
      " 24  scoringTwoPointPass          5454 non-null   float64\n",
      " 25  fantasyPoints_x              5454 non-null   float64\n",
      " 26  pprPoints_x                  5454 non-null   float64\n",
      " 27  draftKingPoints_x            5454 non-null   float64\n",
      " 28  fanDuelPoints_x              5454 non-null   float64\n",
      " 29  vbd                          5454 non-null   float64\n",
      " 30  positionRank                 5454 non-null   float64\n",
      " 31  overallRank                  5454 non-null   float64\n",
      " 32  fantasyPoints_y              5454 non-null   float64\n",
      " 33  pprPoints_y                  5454 non-null   float64\n",
      " 34  draftKingPoints_y            5454 non-null   float64\n",
      " 35  fanDuelPoints_y              5454 non-null   float64\n",
      "dtypes: float64(33), object(3)\n",
      "memory usage: 1.5+ MB\n"
     ]
    }
   ],
   "source": [
    "model['fantasyPoints_y'] = model['fantasyPoints_y'].apply(lambda x: float(x))\n",
    "model['pprPoints_y'] = model['pprPoints_y'].apply(lambda x: float(x))\n",
    "model['draftKingPoints_y'] = model['draftKingPoints_y'].apply(lambda x: float(x))\n",
    "model['fanDuelPoints_y'] = model['fanDuelPoints_y'].apply(lambda x: float(x))\n",
    "model.info()"
   ]
  },
  {
   "cell_type": "markdown",
   "metadata": {},
   "source": [
    "## Drop columns that aren't needed"
   ]
  },
  {
   "cell_type": "code",
   "execution_count": 14,
   "metadata": {},
   "outputs": [],
   "source": [
    "model = model.drop(['teamName'],axis=1)"
   ]
  },
  {
   "cell_type": "markdown",
   "metadata": {},
   "source": [
    "## Create dummy values for position"
   ]
  },
  {
   "cell_type": "code",
   "execution_count": 15,
   "metadata": {},
   "outputs": [],
   "source": [
    "position_dummies = pd.get_dummies(model['position'])\n",
    "model = pd.concat([model,position_dummies],axis=1)\n",
    "model = model.drop('position',axis=1)"
   ]
  },
  {
   "cell_type": "markdown",
   "metadata": {},
   "source": [
    "## Seperate training data from results data"
   ]
  },
  {
   "cell_type": "code",
   "execution_count": 16,
   "metadata": {},
   "outputs": [
    {
     "data": {
      "text/html": [
       "<div>\n",
       "<style scoped>\n",
       "    .dataframe tbody tr th:only-of-type {\n",
       "        vertical-align: middle;\n",
       "    }\n",
       "\n",
       "    .dataframe tbody tr th {\n",
       "        vertical-align: top;\n",
       "    }\n",
       "\n",
       "    .dataframe thead th {\n",
       "        text-align: right;\n",
       "    }\n",
       "</style>\n",
       "<table border=\"1\" class=\"dataframe\">\n",
       "  <thead>\n",
       "    <tr style=\"text-align: right;\">\n",
       "      <th></th>\n",
       "      <th>age</th>\n",
       "      <th>gamesPlayed</th>\n",
       "      <th>gamesStarted</th>\n",
       "      <th>passComp</th>\n",
       "      <th>passAtt</th>\n",
       "      <th>passYrds</th>\n",
       "      <th>passTds</th>\n",
       "      <th>passInts</th>\n",
       "      <th>rushAtt</th>\n",
       "      <th>rushYds</th>\n",
       "      <th>...</th>\n",
       "      <th>pprPoints_x</th>\n",
       "      <th>draftKingPoints_x</th>\n",
       "      <th>fanDuelPoints_x</th>\n",
       "      <th>vbd</th>\n",
       "      <th>positionRank</th>\n",
       "      <th>overallRank</th>\n",
       "      <th>QB</th>\n",
       "      <th>RB</th>\n",
       "      <th>TE</th>\n",
       "      <th>WR</th>\n",
       "    </tr>\n",
       "  </thead>\n",
       "  <tbody>\n",
       "    <tr>\n",
       "      <th>0</th>\n",
       "      <td>26.0</td>\n",
       "      <td>16.0</td>\n",
       "      <td>16.0</td>\n",
       "      <td>0.0</td>\n",
       "      <td>0.0</td>\n",
       "      <td>0.0</td>\n",
       "      <td>0.0</td>\n",
       "      <td>0.0</td>\n",
       "      <td>377.0</td>\n",
       "      <td>1773.0</td>\n",
       "      <td>...</td>\n",
       "      <td>414.8</td>\n",
       "      <td>426.8</td>\n",
       "      <td>383.8</td>\n",
       "      <td>221.0</td>\n",
       "      <td>1.0</td>\n",
       "      <td>1.0</td>\n",
       "      <td>0</td>\n",
       "      <td>1</td>\n",
       "      <td>0</td>\n",
       "      <td>0</td>\n",
       "    </tr>\n",
       "    <tr>\n",
       "      <th>1</th>\n",
       "      <td>33.0</td>\n",
       "      <td>16.0</td>\n",
       "      <td>16.0</td>\n",
       "      <td>1.0</td>\n",
       "      <td>1.0</td>\n",
       "      <td>41.0</td>\n",
       "      <td>1.0</td>\n",
       "      <td>0.0</td>\n",
       "      <td>5.0</td>\n",
       "      <td>36.0</td>\n",
       "      <td>...</td>\n",
       "      <td>414.0</td>\n",
       "      <td>420.0</td>\n",
       "      <td>353.0</td>\n",
       "      <td>174.0</td>\n",
       "      <td>1.0</td>\n",
       "      <td>2.0</td>\n",
       "      <td>0</td>\n",
       "      <td>0</td>\n",
       "      <td>0</td>\n",
       "      <td>1</td>\n",
       "    </tr>\n",
       "    <tr>\n",
       "      <th>2</th>\n",
       "      <td>23.0</td>\n",
       "      <td>16.0</td>\n",
       "      <td>16.0</td>\n",
       "      <td>0.0</td>\n",
       "      <td>0.0</td>\n",
       "      <td>0.0</td>\n",
       "      <td>0.0</td>\n",
       "      <td>0.0</td>\n",
       "      <td>3.0</td>\n",
       "      <td>17.0</td>\n",
       "      <td>...</td>\n",
       "      <td>376.8</td>\n",
       "      <td>380.8</td>\n",
       "      <td>317.3</td>\n",
       "      <td>140.0</td>\n",
       "      <td>2.0</td>\n",
       "      <td>3.0</td>\n",
       "      <td>0</td>\n",
       "      <td>0</td>\n",
       "      <td>0</td>\n",
       "      <td>1</td>\n",
       "    </tr>\n",
       "    <tr>\n",
       "      <th>3</th>\n",
       "      <td>26.0</td>\n",
       "      <td>16.0</td>\n",
       "      <td>16.0</td>\n",
       "      <td>0.0</td>\n",
       "      <td>0.0</td>\n",
       "      <td>0.0</td>\n",
       "      <td>0.0</td>\n",
       "      <td>0.0</td>\n",
       "      <td>0.0</td>\n",
       "      <td>0.0</td>\n",
       "      <td>...</td>\n",
       "      <td>371.6</td>\n",
       "      <td>376.6</td>\n",
       "      <td>310.1</td>\n",
       "      <td>131.0</td>\n",
       "      <td>3.0</td>\n",
       "      <td>4.0</td>\n",
       "      <td>0</td>\n",
       "      <td>0</td>\n",
       "      <td>0</td>\n",
       "      <td>1</td>\n",
       "    </tr>\n",
       "    <tr>\n",
       "      <th>4</th>\n",
       "      <td>22.0</td>\n",
       "      <td>16.0</td>\n",
       "      <td>15.0</td>\n",
       "      <td>0.0</td>\n",
       "      <td>0.0</td>\n",
       "      <td>0.0</td>\n",
       "      <td>0.0</td>\n",
       "      <td>0.0</td>\n",
       "      <td>368.0</td>\n",
       "      <td>1487.0</td>\n",
       "      <td>...</td>\n",
       "      <td>290.8</td>\n",
       "      <td>299.8</td>\n",
       "      <td>275.8</td>\n",
       "      <td>129.0</td>\n",
       "      <td>2.0</td>\n",
       "      <td>5.0</td>\n",
       "      <td>0</td>\n",
       "      <td>1</td>\n",
       "      <td>0</td>\n",
       "      <td>0</td>\n",
       "    </tr>\n",
       "  </tbody>\n",
       "</table>\n",
       "<p>5 rows × 33 columns</p>\n",
       "</div>"
      ],
      "text/plain": [
       "    age  gamesPlayed  gamesStarted  passComp  passAtt  passYrds  passTds  \\\n",
       "0  26.0         16.0          16.0       0.0      0.0       0.0      0.0   \n",
       "1  33.0         16.0          16.0       1.0      1.0      41.0      1.0   \n",
       "2  23.0         16.0          16.0       0.0      0.0       0.0      0.0   \n",
       "3  26.0         16.0          16.0       0.0      0.0       0.0      0.0   \n",
       "4  22.0         16.0          15.0       0.0      0.0       0.0      0.0   \n",
       "\n",
       "   passInts  rushAtt  rushYds  ...  pprPoints_x  draftKingPoints_x  \\\n",
       "0       0.0    377.0   1773.0  ...        414.8              426.8   \n",
       "1       0.0      5.0     36.0  ...        414.0              420.0   \n",
       "2       0.0      3.0     17.0  ...        376.8              380.8   \n",
       "3       0.0      0.0      0.0  ...        371.6              376.6   \n",
       "4       0.0    368.0   1487.0  ...        290.8              299.8   \n",
       "\n",
       "   fanDuelPoints_x    vbd  positionRank  overallRank  QB  RB  TE  WR  \n",
       "0            383.8  221.0           1.0          1.0   0   1   0   0  \n",
       "1            353.0  174.0           1.0          2.0   0   0   0   1  \n",
       "2            317.3  140.0           2.0          3.0   0   0   0   1  \n",
       "3            310.1  131.0           3.0          4.0   0   0   0   1  \n",
       "4            275.8  129.0           2.0          5.0   0   1   0   0  \n",
       "\n",
       "[5 rows x 33 columns]"
      ]
     },
     "execution_count": 16,
     "metadata": {},
     "output_type": "execute_result"
    }
   ],
   "source": [
    "playerStats = model.drop(['name','fantasyPoints_y','pprPoints_y','draftKingPoints_y','fanDuelPoints_y'],axis=1)\n",
    "fantasyPoints = model['fantasyPoints_y']\n",
    "pprPoints = model['pprPoints_y']\n",
    "draftKingPoints = model['draftKingPoints_y']\n",
    "fanDuelPoints = model['fanDuelPoints_y']\n",
    "playerStats.head()"
   ]
  },
  {
   "cell_type": "code",
   "execution_count": 17,
   "metadata": {},
   "outputs": [
    {
     "name": "stdout",
     "output_type": "stream",
     "text": [
      "<class 'pandas.core.frame.DataFrame'>\n",
      "Int64Index: 5454 entries, 0 to 312\n",
      "Data columns (total 33 columns):\n",
      " #   Column                       Non-Null Count  Dtype  \n",
      "---  ------                       --------------  -----  \n",
      " 0   age                          5454 non-null   float64\n",
      " 1   gamesPlayed                  5454 non-null   float64\n",
      " 2   gamesStarted                 5454 non-null   float64\n",
      " 3   passComp                     5454 non-null   float64\n",
      " 4   passAtt                      5454 non-null   float64\n",
      " 5   passYrds                     5454 non-null   float64\n",
      " 6   passTds                      5454 non-null   float64\n",
      " 7   passInts                     5454 non-null   float64\n",
      " 8   rushAtt                      5454 non-null   float64\n",
      " 9   rushYds                      5454 non-null   float64\n",
      " 10  rushYdsPerAtt                5454 non-null   float64\n",
      " 11  rushTds                      5454 non-null   float64\n",
      " 12  recTgt                       5454 non-null   float64\n",
      " 13  recReceptions                5454 non-null   float64\n",
      " 14  recYards                     5454 non-null   float64\n",
      " 15  recYdsPerAtt                 5454 non-null   float64\n",
      " 16  recTds                       5454 non-null   float64\n",
      " 17  fumbles                      5454 non-null   float64\n",
      " 18  fumblesLost                  5454 non-null   float64\n",
      " 19  scoringTds                   5454 non-null   float64\n",
      " 20  scoringTwoPointConversation  5454 non-null   float64\n",
      " 21  scoringTwoPointPass          5454 non-null   float64\n",
      " 22  fantasyPoints_x              5454 non-null   float64\n",
      " 23  pprPoints_x                  5454 non-null   float64\n",
      " 24  draftKingPoints_x            5454 non-null   float64\n",
      " 25  fanDuelPoints_x              5454 non-null   float64\n",
      " 26  vbd                          5454 non-null   float64\n",
      " 27  positionRank                 5454 non-null   float64\n",
      " 28  overallRank                  5454 non-null   float64\n",
      " 29  QB                           5454 non-null   uint8  \n",
      " 30  RB                           5454 non-null   uint8  \n",
      " 31  TE                           5454 non-null   uint8  \n",
      " 32  WR                           5454 non-null   uint8  \n",
      "dtypes: float64(29), uint8(4)\n",
      "memory usage: 1.3 MB\n"
     ]
    }
   ],
   "source": [
    "playerStats.info()"
   ]
  },
  {
   "cell_type": "markdown",
   "metadata": {},
   "source": [
    "## Create ML Models\n",
    "## Split data into training and test sets\n",
    "## Using Sci-kit Learn over a Deep Learning Framework due to lack of BIG data\n",
    "## Create seperate models to predict Fantasy Score, PPR Score, and Draft Kings Score"
   ]
  },
  {
   "cell_type": "code",
   "execution_count": 18,
   "metadata": {},
   "outputs": [],
   "source": [
    "## Import training package\n",
    "from sklearn.model_selection import train_test_split"
   ]
  },
  {
   "cell_type": "code",
   "execution_count": 19,
   "metadata": {},
   "outputs": [],
   "source": [
    "fantasyX_train, fantasyX_test, fantasyY_train, fantasyY_test = train_test_split(playerStats, fantasyPoints, test_size=0.30, random_state=101)\n",
    "pprX_train, pprX_test, pprY_train, pprY_test = train_test_split(playerStats, pprPoints, test_size=0.30, random_state=101)\n",
    "draftkingX_train, draftkingX_test, draftkingY_train, draftkingY_test = train_test_split(playerStats, draftKingPoints, test_size=0.30, random_state=101)\n",
    "fanDuelX_train, fanDuelX_test, fanDuelY_train, fanDuelY_test = train_test_split(playerStats, fanDuelPoints, test_size=0.30, random_state=101)"
   ]
  },
  {
   "cell_type": "markdown",
   "metadata": {},
   "source": [
    "## Use linear regression algorithm for model"
   ]
  },
  {
   "cell_type": "code",
   "execution_count": 20,
   "metadata": {},
   "outputs": [],
   "source": [
    "from sklearn.linear_model import LinearRegression"
   ]
  },
  {
   "cell_type": "code",
   "execution_count": 21,
   "metadata": {},
   "outputs": [
    {
     "data": {
      "text/plain": [
       "LinearRegression()"
      ]
     },
     "execution_count": 21,
     "metadata": {},
     "output_type": "execute_result"
    }
   ],
   "source": [
    "fantasyModel = LinearRegression()\n",
    "fantasyModel.fit(fantasyX_train,fantasyY_train)\n",
    "\n",
    "pprModel = LinearRegression()\n",
    "pprModel.fit(pprX_train, pprY_train)\n",
    "\n",
    "draftKingModel = LinearRegression()\n",
    "draftKingModel.fit(draftkingX_train, draftkingY_train)\n",
    "\n",
    "fanDuelModel = LinearRegression()\n",
    "fanDuelModel.fit(fanDuelX_train, fanDuelY_train)"
   ]
  },
  {
   "cell_type": "code",
   "execution_count": 23,
   "metadata": {},
   "outputs": [],
   "source": [
    "fantasy_predictions = fantasyModel.predict(fantasyX_test)\n",
    "\n",
    "ppr_predictions = pprModel.predict(pprX_test)\n",
    "\n",
    "draftKing_predictions = draftKingModel.predict(draftkingX_test)\n",
    "\n",
    "fanDuel_predictions = fanDuelModel.predict(fanDuelX_test)"
   ]
  },
  {
   "cell_type": "markdown",
   "metadata": {},
   "source": [
    "## Evaluate Predictions"
   ]
  },
  {
   "cell_type": "code",
   "execution_count": 24,
   "metadata": {},
   "outputs": [],
   "source": [
    "import matplotlib.pyplot as plt\n",
    "from sklearn.metrics import mean_squared_error,mean_absolute_error,explained_variance_score"
   ]
  },
  {
   "cell_type": "markdown",
   "metadata": {},
   "source": [
    "### Fantasy Football Evaluation"
   ]
  },
  {
   "cell_type": "code",
   "execution_count": 25,
   "metadata": {},
   "outputs": [
    {
     "data": {
      "text/plain": [
       "[<matplotlib.lines.Line2D at 0x7ff4d373e3d0>]"
      ]
     },
     "execution_count": 25,
     "metadata": {},
     "output_type": "execute_result"
    },
    {
     "data": {
      "image/png": "[encoded data removed]",
      "text/plain": [
       "<Figure size 432x288 with 1 Axes>"
      ]
     },
     "metadata": {
      "needs_background": "light"
     },
     "output_type": "display_data"
    }
   ],
   "source": [
    "# Our predictions\n",
    "plt.scatter(fantasyY_test,fantasy_predictions)\n",
    "\n",
    "# Perfect predictions\n",
    "plt.plot(fantasyY_test,fantasyY_test,'r')"
   ]
  },
  {
   "cell_type": "code",
   "execution_count": 256,
   "metadata": {},
   "outputs": [
    {
     "data": {
      "text/plain": [
       "2.369585045381424"
      ]
     },
     "execution_count": 256,
     "metadata": {},
     "output_type": "execute_result"
    }
   ],
   "source": [
    "mean_absolute_error(fantasyY_test,fantasy_predictions)/16"
   ]
  },
  {
   "cell_type": "code",
   "execution_count": 257,
   "metadata": {},
   "outputs": [
    {
     "data": {
      "text/plain": [
       "0.44615723698543464"
      ]
     },
     "execution_count": 257,
     "metadata": {},
     "output_type": "execute_result"
    }
   ],
   "source": [
    "explained_variance_score(fantasyY_test,fantasy_predictions)"
   ]
  },
  {
   "cell_type": "markdown",
   "metadata": {},
   "source": [
    "### PPR Evaluation"
   ]
  },
  {
   "cell_type": "code",
   "execution_count": 26,
   "metadata": {},
   "outputs": [
    {
     "data": {
      "text/plain": [
       "[<matplotlib.lines.Line2D at 0x7ff4d3855be0>]"
      ]
     },
     "execution_count": 26,
     "metadata": {},
     "output_type": "execute_result"
    },
    {
     "data": {
      "image/png": "[encoded data removed]",
      "text/plain": [
       "<Figure size 432x288 with 1 Axes>"
      ]
     },
     "metadata": {
      "needs_background": "light"
     },
     "output_type": "display_data"
    }
   ],
   "source": [
    "# Our predictions\n",
    "plt.scatter(pprY_test,ppr_predictions)\n",
    "\n",
    "# Perfect predictions\n",
    "plt.plot(pprY_test,pprY_test,'r')"
   ]
  },
  {
   "cell_type": "code",
   "execution_count": 259,
   "metadata": {},
   "outputs": [
    {
     "data": {
      "text/plain": [
       "2.963608634734712"
      ]
     },
     "execution_count": 259,
     "metadata": {},
     "output_type": "execute_result"
    }
   ],
   "source": [
    "mean_absolute_error(pprY_test,ppr_predictions)/16"
   ]
  },
  {
   "cell_type": "code",
   "execution_count": 260,
   "metadata": {},
   "outputs": [
    {
     "data": {
      "text/plain": [
       "0.37260821297132274"
      ]
     },
     "execution_count": 260,
     "metadata": {},
     "output_type": "execute_result"
    }
   ],
   "source": [
    "explained_variance_score(pprY_test,ppr_predictions)"
   ]
  },
  {
   "cell_type": "markdown",
   "metadata": {},
   "source": [
    "### Draft Kings Evaluation"
   ]
  },
  {
   "cell_type": "code",
   "execution_count": 27,
   "metadata": {},
   "outputs": [
    {
     "data": {
      "text/plain": [
       "[<matplotlib.lines.Line2D at 0x7ff4d39010a0>]"
      ]
     },
     "execution_count": 27,
     "metadata": {},
     "output_type": "execute_result"
    },
    {
     "data": {
      "image/png": "[encoded data removed]",
      "text/plain": [
       "<Figure size 432x288 with 1 Axes>"
      ]
     },
     "metadata": {
      "needs_background": "light"
     },
     "output_type": "display_data"
    }
   ],
   "source": [
    "# Our predictions\n",
    "plt.scatter(draftkingY_test,draftKing_predictions)\n",
    "\n",
    "# Perfect predictions\n",
    "plt.plot(draftkingY_test,draftkingY_test,'r')"
   ]
  },
  {
   "cell_type": "code",
   "execution_count": 262,
   "metadata": {},
   "outputs": [
    {
     "data": {
      "text/plain": [
       "3.0092274377122696"
      ]
     },
     "execution_count": 262,
     "metadata": {},
     "output_type": "execute_result"
    }
   ],
   "source": [
    "mean_absolute_error(draftkingY_test,draftKing_predictions)/16"
   ]
  },
  {
   "cell_type": "code",
   "execution_count": 263,
   "metadata": {},
   "outputs": [
    {
     "data": {
      "text/plain": [
       "0.3839088581670347"
      ]
     },
     "execution_count": 263,
     "metadata": {},
     "output_type": "execute_result"
    }
   ],
   "source": [
    "explained_variance_score(draftkingY_test,draftKing_predictions)"
   ]
  },
  {
   "cell_type": "markdown",
   "metadata": {},
   "source": [
    "### Fan Duel Evaluation"
   ]
  },
  {
   "cell_type": "code",
   "execution_count": 28,
   "metadata": {},
   "outputs": [
    {
     "data": {
      "text/plain": [
       "[<matplotlib.lines.Line2D at 0x7ff4d3accb80>]"
      ]
     },
     "execution_count": 28,
     "metadata": {},
     "output_type": "execute_result"
    },
    {
     "data": {
      "image/png": "[encoded data removed]",
      "text/plain": [
       "<Figure size 432x288 with 1 Axes>"
      ]
     },
     "metadata": {
      "needs_background": "light"
     },
     "output_type": "display_data"
    }
   ],
   "source": [
    "# Our predictions\n",
    "plt.scatter(draftkingY_test,draftKing_predictions)\n",
    "\n",
    "# Perfect predictions\n",
    "plt.plot(draftkingY_test,draftkingY_test,'r')"
   ]
  },
  {
   "cell_type": "code",
   "execution_count": 29,
   "metadata": {},
   "outputs": [
    {
     "data": {
      "text/plain": [
       "3.0092274377122696"
      ]
     },
     "execution_count": 29,
     "metadata": {},
     "output_type": "execute_result"
    }
   ],
   "source": [
    "mean_absolute_error(draftkingY_test,draftKing_predictions)/17"
   ]
  },
  {
   "cell_type": "code",
   "execution_count": 30,
   "metadata": {},
   "outputs": [
    {
     "data": {
      "text/plain": [
       "0.3839088581670347"
      ]
     },
     "execution_count": 30,
     "metadata": {},
     "output_type": "execute_result"
    }
   ],
   "source": [
    "explained_variance_score(draftkingY_test,draftKing_predictions)"
   ]
  },
  {
   "cell_type": "markdown",
   "metadata": {},
   "source": [
    "## Save model to GCS"
   ]
  },
  {
   "cell_type": "code",
   "execution_count": 43,
   "metadata": {},
   "outputs": [],
   "source": [
    "import joblib"
   ]
  },
  {
   "cell_type": "code",
   "execution_count": 44,
   "metadata": {},
   "outputs": [
    {
     "data": {
      "text/plain": [
       "['fanduel.joblib']"
      ]
     },
     "execution_count": 44,
     "metadata": {},
     "output_type": "execute_result"
    }
   ],
   "source": [
    "fantasy_file = 'fantasyModel.joblib'\n",
    "ppr_file = 'ppr.joblib'\n",
    "draftking_file = 'draftking.joblib'\n",
    "fanduel_file = 'fanduel.joblib'\n",
    "\n",
    "joblib.dump(fantasyModel, fantasy_file)\n",
    "joblib.dump(pprModel, ppr_file)\n",
    "joblib.dump(draftKingModel, draftking_file)\n",
    "joblib.dump(fanDuelModel, fanduel_file)"
   ]
  },
  {
   "cell_type": "code",
   "execution_count": null,
   "metadata": {},
   "outputs": [],
   "source": [
    "model_bucket = storage_client.get_bucket('fantasy_football_models')"
   ]
  },
  {
   "cell_type": "code",
   "execution_count": null,
   "metadata": {},
   "outputs": [],
   "source": [
    "draftkingModel = model_bucket.blob('draftking.joblib')\n",
    "draftkingModel.upload_from_filename('./draftking.joblib')"
   ]
  },
  {
   "cell_type": "code",
   "execution_count": 2,
   "metadata": {},
   "outputs": [],
   "source": [
    "fantasyModel = model_bucket.blob('fantasyModel.joblib')\n",
    "fantasyModel.upload_from_filename('./fantasyModel.joblib')"
   ]
  },
  {
   "cell_type": "code",
   "execution_count": null,
   "metadata": {},
   "outputs": [],
   "source": [
    "pprModel = model_bucket.blob('pprModel.joblib')\n",
    "pprModel.upload_from_filename('./pprModel.joblib')"
   ]
  },
  {
   "cell_type": "code",
   "execution_count": null,
   "metadata": {},
   "outputs": [],
   "source": [
    "fanDuelModel = model_bucket.blob('fanDuelModel.joblib')\n",
    "fanDuelModel.upload_from_filename('./fanduel.joblib')"
   ]
  }
 ],
 "metadata": {
  "interpreter": {
   "hash": "dca0ade3e726a953b501b15e8e990130d2b7799f14cfd9f4271676035ebe5511"
  },
  "kernelspec": {
   "display_name": "Python 3.8.3 64-bit (conda)",
   "name": "python3"
  },
  "language_info": {
   "name": "python",
   "version": ""
  },
  "orig_nbformat": 4
 },
 "nbformat": 4,
 "nbformat_minor": 2
}